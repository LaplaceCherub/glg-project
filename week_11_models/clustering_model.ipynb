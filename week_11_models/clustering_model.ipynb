{
 "cells": [
  {
   "cell_type": "code",
   "execution_count": 1,
   "metadata": {},
   "outputs": [],
   "source": [
    "import numpy as np \n",
    "import pandas as pd\n",
    "import string"
   ]
  },
  {
   "cell_type": "code",
   "execution_count": 2,
   "metadata": {},
   "outputs": [],
   "source": [
    "pd.set_option('display.max_colwidth', None)"
   ]
  },
  {
   "cell_type": "markdown",
   "metadata": {},
   "source": [
    "## Data processing"
   ]
  },
  {
   "cell_type": "code",
   "execution_count": 3,
   "metadata": {},
   "outputs": [
    {
     "name": "stdout",
     "output_type": "stream",
     "text": [
      "/Users/yinghu/Documents/GitHub/fourthBrain/glg-project/week_11_models\n"
     ]
    }
   ],
   "source": [
    "!pwd"
   ]
  },
  {
   "cell_type": "code",
   "execution_count": 4,
   "metadata": {},
   "outputs": [],
   "source": [
    "ner_dataset = pd.read_csv('/Users/yinghu/Documents/GitHub/fourthBrain/glg-project/datasets/ner_dataset.csv', \n",
    "    encoding='latin1')"
   ]
  },
  {
   "cell_type": "markdown",
   "metadata": {},
   "source": [
    "Fill the missing `Sentence #`"
   ]
  },
  {
   "cell_type": "code",
   "execution_count": 5,
   "metadata": {},
   "outputs": [],
   "source": [
    "ner_dataset['Sentence #'] = ner_dataset['Sentence #'].str.replace('Sentence:', '')\n",
    "ner_dataset = ner_dataset.fillna(method='ffill')"
   ]
  },
  {
   "cell_type": "code",
   "execution_count": 17,
   "metadata": {},
   "outputs": [],
   "source": [
    "ner_dataset['Sentence #'] = ner_dataset['Sentence #'].astype(int)"
   ]
  },
  {
   "cell_type": "code",
   "execution_count": 18,
   "metadata": {},
   "outputs": [
    {
     "data": {
      "text/plain": [
       "Sentence #     int64\n",
       "Word          object\n",
       "POS           object\n",
       "Tag           object\n",
       "dtype: object"
      ]
     },
     "execution_count": 18,
     "metadata": {},
     "output_type": "execute_result"
    }
   ],
   "source": [
    "ner_dataset.dtypes"
   ]
  },
  {
   "cell_type": "markdown",
   "metadata": {},
   "source": [
    "#### Create the `sentences_df`"
   ]
  },
  {
   "cell_type": "code",
   "execution_count": 7,
   "metadata": {},
   "outputs": [],
   "source": [
    "sentences_df = ner_dataset.groupby('Sentence #')['Word'].apply(lambda x: x.str.cat(sep=' '))\n",
    "sentences_df = sentences_df.reset_index()\n",
    "sentences_df = sentences_df.rename(columns={'Word': 'Sentences'})"
   ]
  },
  {
   "cell_type": "markdown",
   "metadata": {},
   "source": [
    "Inspect Sentence 8411. It only contains the word \"The\". "
   ]
  },
  {
   "cell_type": "code",
   "execution_count": 9,
   "metadata": {},
   "outputs": [
    {
     "data": {
      "text/plain": [
       "Sentence #    8412\n",
       "Sentences      The\n",
       "Name: 8411, dtype: object"
      ]
     },
     "execution_count": 9,
     "metadata": {},
     "output_type": "execute_result"
    }
   ],
   "source": [
    "sentences_df.iloc[8411]"
   ]
  },
  {
   "cell_type": "code",
   "execution_count": 10,
   "metadata": {},
   "outputs": [],
   "source": [
    "sentences_df = sentences_df.drop(labels=[8411], axis=0)\n",
    "sentences_df = sentences_df.reset_index()\n",
    "sentences_df = sentences_df.drop(columns='index')"
   ]
  },
  {
   "cell_type": "markdown",
   "metadata": {},
   "source": [
    "#### Lower Casing"
   ]
  },
  {
   "cell_type": "code",
   "execution_count": 19,
   "metadata": {},
   "outputs": [],
   "source": [
    "sentences_df['sent_lower'] = sentences_df['Sentences'].str.lower()"
   ]
  },
  {
   "cell_type": "markdown",
   "metadata": {},
   "source": [
    "#### Removal of punctuations"
   ]
  },
  {
   "cell_type": "code",
   "execution_count": 20,
   "metadata": {},
   "outputs": [],
   "source": [
    "PUNCT_TO_REMOVE = string.punctuation\n",
    "def remove_punctuation(sentence):\n",
    "    return sentence.translate(str.maketrans('', '', PUNCT_TO_REMOVE))\n",
    "\n",
    "sentences_df['sent_wo_punc'] = sentences_df['Sentences'].apply(lambda sentence: remove_punctuation(sentence))"
   ]
  },
  {
   "cell_type": "code",
   "execution_count": 21,
   "metadata": {},
   "outputs": [
    {
     "data": {
      "text/html": [
       "<div>\n",
       "<style scoped>\n",
       "    .dataframe tbody tr th:only-of-type {\n",
       "        vertical-align: middle;\n",
       "    }\n",
       "\n",
       "    .dataframe tbody tr th {\n",
       "        vertical-align: top;\n",
       "    }\n",
       "\n",
       "    .dataframe thead th {\n",
       "        text-align: right;\n",
       "    }\n",
       "</style>\n",
       "<table border=\"1\" class=\"dataframe\">\n",
       "  <thead>\n",
       "    <tr style=\"text-align: right;\">\n",
       "      <th></th>\n",
       "      <th>Sentence #</th>\n",
       "      <th>Sentences</th>\n",
       "      <th>sent_lower</th>\n",
       "      <th>sent_wo_punc</th>\n",
       "    </tr>\n",
       "  </thead>\n",
       "  <tbody>\n",
       "    <tr>\n",
       "      <th>0</th>\n",
       "      <td>1</td>\n",
       "      <td>Thousands of demonstrators have marched through London to protest the war in Iraq and demand the withdrawal of British troops from that country .</td>\n",
       "      <td>thousands of demonstrators have marched through london to protest the war in iraq and demand the withdrawal of british troops from that country .</td>\n",
       "      <td>Thousands of demonstrators have marched through London to protest the war in Iraq and demand the withdrawal of British troops from that country</td>\n",
       "    </tr>\n",
       "    <tr>\n",
       "      <th>1</th>\n",
       "      <td>2</td>\n",
       "      <td>Families of soldiers killed in the conflict joined the protesters who carried banners with such slogans as \" Bush Number One Terrorist \" and \" Stop the Bombings . \"</td>\n",
       "      <td>families of soldiers killed in the conflict joined the protesters who carried banners with such slogans as \" bush number one terrorist \" and \" stop the bombings . \"</td>\n",
       "      <td>Families of soldiers killed in the conflict joined the protesters who carried banners with such slogans as  Bush Number One Terrorist  and  Stop the Bombings</td>\n",
       "    </tr>\n",
       "    <tr>\n",
       "      <th>2</th>\n",
       "      <td>3</td>\n",
       "      <td>They marched from the Houses of Parliament to a rally in Hyde Park .</td>\n",
       "      <td>they marched from the houses of parliament to a rally in hyde park .</td>\n",
       "      <td>They marched from the Houses of Parliament to a rally in Hyde Park</td>\n",
       "    </tr>\n",
       "    <tr>\n",
       "      <th>3</th>\n",
       "      <td>4</td>\n",
       "      <td>Police put the number of marchers at 10,000 while organizers claimed it was 1,00,000 .</td>\n",
       "      <td>police put the number of marchers at 10,000 while organizers claimed it was 1,00,000 .</td>\n",
       "      <td>Police put the number of marchers at 10000 while organizers claimed it was 100000</td>\n",
       "    </tr>\n",
       "    <tr>\n",
       "      <th>4</th>\n",
       "      <td>5</td>\n",
       "      <td>The protest comes on the eve of the annual conference of Britain 's ruling Labor Party in the southern English seaside resort of Brighton .</td>\n",
       "      <td>the protest comes on the eve of the annual conference of britain 's ruling labor party in the southern english seaside resort of brighton .</td>\n",
       "      <td>The protest comes on the eve of the annual conference of Britain s ruling Labor Party in the southern English seaside resort of Brighton</td>\n",
       "    </tr>\n",
       "  </tbody>\n",
       "</table>\n",
       "</div>"
      ],
      "text/plain": [
       "   Sentence #  \\\n",
       "0           1   \n",
       "1           2   \n",
       "2           3   \n",
       "3           4   \n",
       "4           5   \n",
       "\n",
       "                                                                                                                                                              Sentences  \\\n",
       "0                     Thousands of demonstrators have marched through London to protest the war in Iraq and demand the withdrawal of British troops from that country .   \n",
       "1  Families of soldiers killed in the conflict joined the protesters who carried banners with such slogans as \" Bush Number One Terrorist \" and \" Stop the Bombings . \"   \n",
       "2                                                                                                  They marched from the Houses of Parliament to a rally in Hyde Park .   \n",
       "3                                                                                Police put the number of marchers at 10,000 while organizers claimed it was 1,00,000 .   \n",
       "4                           The protest comes on the eve of the annual conference of Britain 's ruling Labor Party in the southern English seaside resort of Brighton .   \n",
       "\n",
       "                                                                                                                                                             sent_lower  \\\n",
       "0                     thousands of demonstrators have marched through london to protest the war in iraq and demand the withdrawal of british troops from that country .   \n",
       "1  families of soldiers killed in the conflict joined the protesters who carried banners with such slogans as \" bush number one terrorist \" and \" stop the bombings . \"   \n",
       "2                                                                                                  they marched from the houses of parliament to a rally in hyde park .   \n",
       "3                                                                                police put the number of marchers at 10,000 while organizers claimed it was 1,00,000 .   \n",
       "4                           the protest comes on the eve of the annual conference of britain 's ruling labor party in the southern english seaside resort of brighton .   \n",
       "\n",
       "                                                                                                                                                      sent_wo_punc  \n",
       "0                 Thousands of demonstrators have marched through London to protest the war in Iraq and demand the withdrawal of British troops from that country   \n",
       "1  Families of soldiers killed in the conflict joined the protesters who carried banners with such slogans as  Bush Number One Terrorist  and  Stop the Bombings    \n",
       "2                                                                                              They marched from the Houses of Parliament to a rally in Hyde Park   \n",
       "3                                                                               Police put the number of marchers at 10000 while organizers claimed it was 100000   \n",
       "4                        The protest comes on the eve of the annual conference of Britain s ruling Labor Party in the southern English seaside resort of Brighton   "
      ]
     },
     "execution_count": 21,
     "metadata": {},
     "output_type": "execute_result"
    }
   ],
   "source": [
    "sentences_df.head()"
   ]
  },
  {
   "cell_type": "code",
   "execution_count": 22,
   "metadata": {},
   "outputs": [],
   "source": [
    "sentences_df['sent_wo_punc_lower'] = sentences_df['sent_wo_punc'].str.lower()"
   ]
  },
  {
   "cell_type": "markdown",
   "metadata": {},
   "source": [
    "#### Removal of stopwords "
   ]
  },
  {
   "cell_type": "code",
   "execution_count": 23,
   "metadata": {},
   "outputs": [
    {
     "name": "stderr",
     "output_type": "stream",
     "text": [
      "[nltk_data] Downloading package stopwords to\n",
      "[nltk_data]     /Users/yinghu/nltk_data...\n",
      "[nltk_data]   Unzipping corpora/stopwords.zip.\n",
      "[nltk_data] Downloading package wordnet to /Users/yinghu/nltk_data...\n",
      "[nltk_data]   Package wordnet is already up-to-date!\n",
      "[nltk_data] Downloading package omw-1.4 to /Users/yinghu/nltk_data...\n",
      "[nltk_data]   Package omw-1.4 is already up-to-date!\n",
      "[nltk_data] Downloading package averaged_perceptron_tagger to\n",
      "[nltk_data]     /Users/yinghu/nltk_data...\n",
      "[nltk_data]   Unzipping taggers/averaged_perceptron_tagger.zip.\n",
      "[nltk_data] Downloading package punkt to /Users/yinghu/nltk_data...\n",
      "[nltk_data]   Unzipping tokenizers/punkt.zip.\n"
     ]
    },
    {
     "data": {
      "text/plain": [
       "True"
      ]
     },
     "execution_count": 23,
     "metadata": {},
     "output_type": "execute_result"
    }
   ],
   "source": [
    "import nltk\n",
    "nltk.download('stopwords')\n",
    "nltk.download('wordnet')\n",
    "nltk.download('omw-1.4')\n",
    "nltk.download('averaged_perceptron_tagger')\n",
    "nltk.download('punkt')"
   ]
  },
  {
   "cell_type": "code",
   "execution_count": 24,
   "metadata": {},
   "outputs": [],
   "source": [
    "from nltk.corpus import stopwords "
   ]
  },
  {
   "cell_type": "code",
   "execution_count": 35,
   "metadata": {},
   "outputs": [
    {
     "data": {
      "text/html": [
       "<div>\n",
       "<style scoped>\n",
       "    .dataframe tbody tr th:only-of-type {\n",
       "        vertical-align: middle;\n",
       "    }\n",
       "\n",
       "    .dataframe tbody tr th {\n",
       "        vertical-align: top;\n",
       "    }\n",
       "\n",
       "    .dataframe thead th {\n",
       "        text-align: right;\n",
       "    }\n",
       "</style>\n",
       "<table border=\"1\" class=\"dataframe\">\n",
       "  <thead>\n",
       "    <tr style=\"text-align: right;\">\n",
       "      <th></th>\n",
       "      <th>Sentence #</th>\n",
       "      <th>Sentences</th>\n",
       "      <th>sent_lower</th>\n",
       "      <th>sent_wo_punc</th>\n",
       "      <th>sent_wo_punc_lower</th>\n",
       "      <th>sent_lemmatized</th>\n",
       "      <th>sent_lemmatized_lower</th>\n",
       "      <th>sent_wo_stop</th>\n",
       "    </tr>\n",
       "  </thead>\n",
       "  <tbody>\n",
       "    <tr>\n",
       "      <th>0</th>\n",
       "      <td>1</td>\n",
       "      <td>Thousands of demonstrators have marched through London to protest the war in Iraq and demand the withdrawal of British troops from that country .</td>\n",
       "      <td>thousands of demonstrators have marched through london to protest the war in iraq and demand the withdrawal of british troops from that country .</td>\n",
       "      <td>Thousands of demonstrators have marched through London to protest the war in Iraq and demand the withdrawal of British troops from that country</td>\n",
       "      <td>thousands of demonstrators have marched through london to protest the war in iraq and demand the withdrawal of british troops from that country</td>\n",
       "      <td>Thousands of demonstrator have march through London to protest the war in Iraq and demand the withdrawal of British troop from that country .</td>\n",
       "      <td>thousands of demonstrator have march through london to protest the war in iraq and demand the withdrawal of british troop from that country .</td>\n",
       "      <td>thousands demonstrators marched london protest war iraq demand withdrawal british troops country</td>\n",
       "    </tr>\n",
       "    <tr>\n",
       "      <th>1</th>\n",
       "      <td>2</td>\n",
       "      <td>Families of soldiers killed in the conflict joined the protesters who carried banners with such slogans as \" Bush Number One Terrorist \" and \" Stop the Bombings . \"</td>\n",
       "      <td>families of soldiers killed in the conflict joined the protesters who carried banners with such slogans as \" bush number one terrorist \" and \" stop the bombings . \"</td>\n",
       "      <td>Families of soldiers killed in the conflict joined the protesters who carried banners with such slogans as  Bush Number One Terrorist  and  Stop the Bombings</td>\n",
       "      <td>families of soldiers killed in the conflict joined the protesters who carried banners with such slogans as  bush number one terrorist  and  stop the bombings</td>\n",
       "      <td>Families of soldier kill in the conflict join the protester who carry banner with such slogan a \" Bush Number One Terrorist \" and \" Stop the Bombings . \"</td>\n",
       "      <td>families of soldier kill in the conflict join the protester who carry banner with such slogan a \" bush number one terrorist \" and \" stop the bombings . \"</td>\n",
       "      <td>families soldiers killed conflict joined protesters carried banners slogans bush number one terrorist stop bombings</td>\n",
       "    </tr>\n",
       "    <tr>\n",
       "      <th>2</th>\n",
       "      <td>3</td>\n",
       "      <td>They marched from the Houses of Parliament to a rally in Hyde Park .</td>\n",
       "      <td>they marched from the houses of parliament to a rally in hyde park .</td>\n",
       "      <td>They marched from the Houses of Parliament to a rally in Hyde Park</td>\n",
       "      <td>they marched from the houses of parliament to a rally in hyde park</td>\n",
       "      <td>They march from the Houses of Parliament to a rally in Hyde Park .</td>\n",
       "      <td>they march from the houses of parliament to a rally in hyde park .</td>\n",
       "      <td>marched houses parliament rally hyde park</td>\n",
       "    </tr>\n",
       "    <tr>\n",
       "      <th>3</th>\n",
       "      <td>4</td>\n",
       "      <td>Police put the number of marchers at 10,000 while organizers claimed it was 1,00,000 .</td>\n",
       "      <td>police put the number of marchers at 10,000 while organizers claimed it was 1,00,000 .</td>\n",
       "      <td>Police put the number of marchers at 10000 while organizers claimed it was 100000</td>\n",
       "      <td>police put the number of marchers at 10000 while organizers claimed it was 100000</td>\n",
       "      <td>Police put the number of marcher at 10,000 while organizer claim it be 1,00,000 .</td>\n",
       "      <td>police put the number of marcher at 10,000 while organizer claim it be 1,00,000 .</td>\n",
       "      <td>police put number marchers 10000 organizers claimed 100000</td>\n",
       "    </tr>\n",
       "    <tr>\n",
       "      <th>4</th>\n",
       "      <td>5</td>\n",
       "      <td>The protest comes on the eve of the annual conference of Britain 's ruling Labor Party in the southern English seaside resort of Brighton .</td>\n",
       "      <td>the protest comes on the eve of the annual conference of britain 's ruling labor party in the southern english seaside resort of brighton .</td>\n",
       "      <td>The protest comes on the eve of the annual conference of Britain s ruling Labor Party in the southern English seaside resort of Brighton</td>\n",
       "      <td>the protest comes on the eve of the annual conference of britain s ruling labor party in the southern english seaside resort of brighton</td>\n",
       "      <td>The protest come on the eve of the annual conference of Britain 's ruling Labor Party in the southern English seaside resort of Brighton .</td>\n",
       "      <td>the protest come on the eve of the annual conference of britain 's ruling labor party in the southern english seaside resort of brighton .</td>\n",
       "      <td>protest comes eve annual conference britain ruling labor party southern english seaside resort brighton</td>\n",
       "    </tr>\n",
       "  </tbody>\n",
       "</table>\n",
       "</div>"
      ],
      "text/plain": [
       "   Sentence #  \\\n",
       "0           1   \n",
       "1           2   \n",
       "2           3   \n",
       "3           4   \n",
       "4           5   \n",
       "\n",
       "                                                                                                                                                              Sentences  \\\n",
       "0                     Thousands of demonstrators have marched through London to protest the war in Iraq and demand the withdrawal of British troops from that country .   \n",
       "1  Families of soldiers killed in the conflict joined the protesters who carried banners with such slogans as \" Bush Number One Terrorist \" and \" Stop the Bombings . \"   \n",
       "2                                                                                                  They marched from the Houses of Parliament to a rally in Hyde Park .   \n",
       "3                                                                                Police put the number of marchers at 10,000 while organizers claimed it was 1,00,000 .   \n",
       "4                           The protest comes on the eve of the annual conference of Britain 's ruling Labor Party in the southern English seaside resort of Brighton .   \n",
       "\n",
       "                                                                                                                                                             sent_lower  \\\n",
       "0                     thousands of demonstrators have marched through london to protest the war in iraq and demand the withdrawal of british troops from that country .   \n",
       "1  families of soldiers killed in the conflict joined the protesters who carried banners with such slogans as \" bush number one terrorist \" and \" stop the bombings . \"   \n",
       "2                                                                                                  they marched from the houses of parliament to a rally in hyde park .   \n",
       "3                                                                                police put the number of marchers at 10,000 while organizers claimed it was 1,00,000 .   \n",
       "4                           the protest comes on the eve of the annual conference of britain 's ruling labor party in the southern english seaside resort of brighton .   \n",
       "\n",
       "                                                                                                                                                      sent_wo_punc  \\\n",
       "0                 Thousands of demonstrators have marched through London to protest the war in Iraq and demand the withdrawal of British troops from that country    \n",
       "1  Families of soldiers killed in the conflict joined the protesters who carried banners with such slogans as  Bush Number One Terrorist  and  Stop the Bombings     \n",
       "2                                                                                              They marched from the Houses of Parliament to a rally in Hyde Park    \n",
       "3                                                                               Police put the number of marchers at 10000 while organizers claimed it was 100000    \n",
       "4                        The protest comes on the eve of the annual conference of Britain s ruling Labor Party in the southern English seaside resort of Brighton    \n",
       "\n",
       "                                                                                                                                                sent_wo_punc_lower  \\\n",
       "0                 thousands of demonstrators have marched through london to protest the war in iraq and demand the withdrawal of british troops from that country    \n",
       "1  families of soldiers killed in the conflict joined the protesters who carried banners with such slogans as  bush number one terrorist  and  stop the bombings     \n",
       "2                                                                                              they marched from the houses of parliament to a rally in hyde park    \n",
       "3                                                                               police put the number of marchers at 10000 while organizers claimed it was 100000    \n",
       "4                        the protest comes on the eve of the annual conference of britain s ruling labor party in the southern english seaside resort of brighton    \n",
       "\n",
       "                                                                                                                                             sent_lemmatized  \\\n",
       "0              Thousands of demonstrator have march through London to protest the war in Iraq and demand the withdrawal of British troop from that country .   \n",
       "1  Families of soldier kill in the conflict join the protester who carry banner with such slogan a \" Bush Number One Terrorist \" and \" Stop the Bombings . \"   \n",
       "2                                                                                         They march from the Houses of Parliament to a rally in Hyde Park .   \n",
       "3                                                                          Police put the number of marcher at 10,000 while organizer claim it be 1,00,000 .   \n",
       "4                 The protest come on the eve of the annual conference of Britain 's ruling Labor Party in the southern English seaside resort of Brighton .   \n",
       "\n",
       "                                                                                                                                       sent_lemmatized_lower  \\\n",
       "0              thousands of demonstrator have march through london to protest the war in iraq and demand the withdrawal of british troop from that country .   \n",
       "1  families of soldier kill in the conflict join the protester who carry banner with such slogan a \" bush number one terrorist \" and \" stop the bombings . \"   \n",
       "2                                                                                         they march from the houses of parliament to a rally in hyde park .   \n",
       "3                                                                          police put the number of marcher at 10,000 while organizer claim it be 1,00,000 .   \n",
       "4                 the protest come on the eve of the annual conference of britain 's ruling labor party in the southern english seaside resort of brighton .   \n",
       "\n",
       "                                                                                                          sent_wo_stop  \n",
       "0                     thousands demonstrators marched london protest war iraq demand withdrawal british troops country  \n",
       "1  families soldiers killed conflict joined protesters carried banners slogans bush number one terrorist stop bombings  \n",
       "2                                                                            marched houses parliament rally hyde park  \n",
       "3                                                           police put number marchers 10000 organizers claimed 100000  \n",
       "4              protest comes eve annual conference britain ruling labor party southern english seaside resort brighton  "
      ]
     },
     "execution_count": 35,
     "metadata": {},
     "output_type": "execute_result"
    }
   ],
   "source": [
    "STOPWORDS = set(stopwords.words('english'))\n",
    "def remove_stopwords(sentence):\n",
    "    return ' '.join([word for word in sentence.split() if word not in STOPWORDS])\n",
    "\n",
    "sentences_df['sent_wo_stop'] = sentences_df['sent_wo_punc_lower']\\\n",
    "                            .apply(lambda sentence: remove_stopwords(sentence))\n",
    "sentences_df.head()\n"
   ]
  },
  {
   "cell_type": "markdown",
   "metadata": {},
   "source": [
    "#### Lemmatization "
   ]
  },
  {
   "cell_type": "code",
   "execution_count": 36,
   "metadata": {},
   "outputs": [],
   "source": [
    "from nltk.corpus import wordnet\n",
    "from nltk.stem import WordNetLemmatizer"
   ]
  },
  {
   "cell_type": "code",
   "execution_count": 37,
   "metadata": {},
   "outputs": [],
   "source": [
    "lemmatizer = WordNetLemmatizer()\n",
    "wordnet_map = {'N':wordnet.NOUN, 'V':wordnet.VERB, 'J':wordnet.ADJ, 'R':wordnet.ADV}\n",
    "def lemmatize_words(sentence):\n",
    "    pos_tagged_text = nltk.pos_tag(sentence.split())\n",
    "    return ' '.join([lemmatizer.lemmatize(word, wordnet_map.get(pos[0], wordnet.NOUN))\n",
    "                    for word, pos in pos_tagged_text])\n",
    "\n",
    "sentences_df['sent_lemmatized'] = sentences_df['Sentences'].apply(lambda sentence: lemmatize_words(sentence))"
   ]
  },
  {
   "cell_type": "code",
   "execution_count": 38,
   "metadata": {},
   "outputs": [
    {
     "data": {
      "text/html": [
       "<div>\n",
       "<style scoped>\n",
       "    .dataframe tbody tr th:only-of-type {\n",
       "        vertical-align: middle;\n",
       "    }\n",
       "\n",
       "    .dataframe tbody tr th {\n",
       "        vertical-align: top;\n",
       "    }\n",
       "\n",
       "    .dataframe thead th {\n",
       "        text-align: right;\n",
       "    }\n",
       "</style>\n",
       "<table border=\"1\" class=\"dataframe\">\n",
       "  <thead>\n",
       "    <tr style=\"text-align: right;\">\n",
       "      <th></th>\n",
       "      <th>Sentence #</th>\n",
       "      <th>Sentences</th>\n",
       "      <th>sent_lower</th>\n",
       "      <th>sent_wo_punc</th>\n",
       "      <th>sent_wo_punc_lower</th>\n",
       "      <th>sent_lemmatized</th>\n",
       "      <th>sent_lemmatized_lower</th>\n",
       "      <th>sent_wo_stop</th>\n",
       "    </tr>\n",
       "  </thead>\n",
       "  <tbody>\n",
       "    <tr>\n",
       "      <th>0</th>\n",
       "      <td>1</td>\n",
       "      <td>Thousands of demonstrators have marched through London to protest the war in Iraq and demand the withdrawal of British troops from that country .</td>\n",
       "      <td>thousands of demonstrators have marched through london to protest the war in iraq and demand the withdrawal of british troops from that country .</td>\n",
       "      <td>Thousands of demonstrators have marched through London to protest the war in Iraq and demand the withdrawal of British troops from that country</td>\n",
       "      <td>thousands of demonstrators have marched through london to protest the war in iraq and demand the withdrawal of british troops from that country</td>\n",
       "      <td>Thousands of demonstrator have march through London to protest the war in Iraq and demand the withdrawal of British troop from that country .</td>\n",
       "      <td>thousands of demonstrator have march through london to protest the war in iraq and demand the withdrawal of british troop from that country .</td>\n",
       "      <td>thousands demonstrators marched london protest war iraq demand withdrawal british troops country</td>\n",
       "    </tr>\n",
       "    <tr>\n",
       "      <th>1</th>\n",
       "      <td>2</td>\n",
       "      <td>Families of soldiers killed in the conflict joined the protesters who carried banners with such slogans as \" Bush Number One Terrorist \" and \" Stop the Bombings . \"</td>\n",
       "      <td>families of soldiers killed in the conflict joined the protesters who carried banners with such slogans as \" bush number one terrorist \" and \" stop the bombings . \"</td>\n",
       "      <td>Families of soldiers killed in the conflict joined the protesters who carried banners with such slogans as  Bush Number One Terrorist  and  Stop the Bombings</td>\n",
       "      <td>families of soldiers killed in the conflict joined the protesters who carried banners with such slogans as  bush number one terrorist  and  stop the bombings</td>\n",
       "      <td>Families of soldier kill in the conflict join the protester who carry banner with such slogan a \" Bush Number One Terrorist \" and \" Stop the Bombings . \"</td>\n",
       "      <td>families of soldier kill in the conflict join the protester who carry banner with such slogan a \" bush number one terrorist \" and \" stop the bombings . \"</td>\n",
       "      <td>families soldiers killed conflict joined protesters carried banners slogans bush number one terrorist stop bombings</td>\n",
       "    </tr>\n",
       "    <tr>\n",
       "      <th>2</th>\n",
       "      <td>3</td>\n",
       "      <td>They marched from the Houses of Parliament to a rally in Hyde Park .</td>\n",
       "      <td>they marched from the houses of parliament to a rally in hyde park .</td>\n",
       "      <td>They marched from the Houses of Parliament to a rally in Hyde Park</td>\n",
       "      <td>they marched from the houses of parliament to a rally in hyde park</td>\n",
       "      <td>They march from the Houses of Parliament to a rally in Hyde Park .</td>\n",
       "      <td>they march from the houses of parliament to a rally in hyde park .</td>\n",
       "      <td>marched houses parliament rally hyde park</td>\n",
       "    </tr>\n",
       "    <tr>\n",
       "      <th>3</th>\n",
       "      <td>4</td>\n",
       "      <td>Police put the number of marchers at 10,000 while organizers claimed it was 1,00,000 .</td>\n",
       "      <td>police put the number of marchers at 10,000 while organizers claimed it was 1,00,000 .</td>\n",
       "      <td>Police put the number of marchers at 10000 while organizers claimed it was 100000</td>\n",
       "      <td>police put the number of marchers at 10000 while organizers claimed it was 100000</td>\n",
       "      <td>Police put the number of marcher at 10,000 while organizer claim it be 1,00,000 .</td>\n",
       "      <td>police put the number of marcher at 10,000 while organizer claim it be 1,00,000 .</td>\n",
       "      <td>police put number marchers 10000 organizers claimed 100000</td>\n",
       "    </tr>\n",
       "    <tr>\n",
       "      <th>4</th>\n",
       "      <td>5</td>\n",
       "      <td>The protest comes on the eve of the annual conference of Britain 's ruling Labor Party in the southern English seaside resort of Brighton .</td>\n",
       "      <td>the protest comes on the eve of the annual conference of britain 's ruling labor party in the southern english seaside resort of brighton .</td>\n",
       "      <td>The protest comes on the eve of the annual conference of Britain s ruling Labor Party in the southern English seaside resort of Brighton</td>\n",
       "      <td>the protest comes on the eve of the annual conference of britain s ruling labor party in the southern english seaside resort of brighton</td>\n",
       "      <td>The protest come on the eve of the annual conference of Britain 's ruling Labor Party in the southern English seaside resort of Brighton .</td>\n",
       "      <td>the protest come on the eve of the annual conference of britain 's ruling labor party in the southern english seaside resort of brighton .</td>\n",
       "      <td>protest comes eve annual conference britain ruling labor party southern english seaside resort brighton</td>\n",
       "    </tr>\n",
       "  </tbody>\n",
       "</table>\n",
       "</div>"
      ],
      "text/plain": [
       "   Sentence #  \\\n",
       "0           1   \n",
       "1           2   \n",
       "2           3   \n",
       "3           4   \n",
       "4           5   \n",
       "\n",
       "                                                                                                                                                              Sentences  \\\n",
       "0                     Thousands of demonstrators have marched through London to protest the war in Iraq and demand the withdrawal of British troops from that country .   \n",
       "1  Families of soldiers killed in the conflict joined the protesters who carried banners with such slogans as \" Bush Number One Terrorist \" and \" Stop the Bombings . \"   \n",
       "2                                                                                                  They marched from the Houses of Parliament to a rally in Hyde Park .   \n",
       "3                                                                                Police put the number of marchers at 10,000 while organizers claimed it was 1,00,000 .   \n",
       "4                           The protest comes on the eve of the annual conference of Britain 's ruling Labor Party in the southern English seaside resort of Brighton .   \n",
       "\n",
       "                                                                                                                                                             sent_lower  \\\n",
       "0                     thousands of demonstrators have marched through london to protest the war in iraq and demand the withdrawal of british troops from that country .   \n",
       "1  families of soldiers killed in the conflict joined the protesters who carried banners with such slogans as \" bush number one terrorist \" and \" stop the bombings . \"   \n",
       "2                                                                                                  they marched from the houses of parliament to a rally in hyde park .   \n",
       "3                                                                                police put the number of marchers at 10,000 while organizers claimed it was 1,00,000 .   \n",
       "4                           the protest comes on the eve of the annual conference of britain 's ruling labor party in the southern english seaside resort of brighton .   \n",
       "\n",
       "                                                                                                                                                      sent_wo_punc  \\\n",
       "0                 Thousands of demonstrators have marched through London to protest the war in Iraq and demand the withdrawal of British troops from that country    \n",
       "1  Families of soldiers killed in the conflict joined the protesters who carried banners with such slogans as  Bush Number One Terrorist  and  Stop the Bombings     \n",
       "2                                                                                              They marched from the Houses of Parliament to a rally in Hyde Park    \n",
       "3                                                                               Police put the number of marchers at 10000 while organizers claimed it was 100000    \n",
       "4                        The protest comes on the eve of the annual conference of Britain s ruling Labor Party in the southern English seaside resort of Brighton    \n",
       "\n",
       "                                                                                                                                                sent_wo_punc_lower  \\\n",
       "0                 thousands of demonstrators have marched through london to protest the war in iraq and demand the withdrawal of british troops from that country    \n",
       "1  families of soldiers killed in the conflict joined the protesters who carried banners with such slogans as  bush number one terrorist  and  stop the bombings     \n",
       "2                                                                                              they marched from the houses of parliament to a rally in hyde park    \n",
       "3                                                                               police put the number of marchers at 10000 while organizers claimed it was 100000    \n",
       "4                        the protest comes on the eve of the annual conference of britain s ruling labor party in the southern english seaside resort of brighton    \n",
       "\n",
       "                                                                                                                                             sent_lemmatized  \\\n",
       "0              Thousands of demonstrator have march through London to protest the war in Iraq and demand the withdrawal of British troop from that country .   \n",
       "1  Families of soldier kill in the conflict join the protester who carry banner with such slogan a \" Bush Number One Terrorist \" and \" Stop the Bombings . \"   \n",
       "2                                                                                         They march from the Houses of Parliament to a rally in Hyde Park .   \n",
       "3                                                                          Police put the number of marcher at 10,000 while organizer claim it be 1,00,000 .   \n",
       "4                 The protest come on the eve of the annual conference of Britain 's ruling Labor Party in the southern English seaside resort of Brighton .   \n",
       "\n",
       "                                                                                                                                       sent_lemmatized_lower  \\\n",
       "0              thousands of demonstrator have march through london to protest the war in iraq and demand the withdrawal of british troop from that country .   \n",
       "1  families of soldier kill in the conflict join the protester who carry banner with such slogan a \" bush number one terrorist \" and \" stop the bombings . \"   \n",
       "2                                                                                         they march from the houses of parliament to a rally in hyde park .   \n",
       "3                                                                          police put the number of marcher at 10,000 while organizer claim it be 1,00,000 .   \n",
       "4                 the protest come on the eve of the annual conference of britain 's ruling labor party in the southern english seaside resort of brighton .   \n",
       "\n",
       "                                                                                                          sent_wo_stop  \n",
       "0                     thousands demonstrators marched london protest war iraq demand withdrawal british troops country  \n",
       "1  families soldiers killed conflict joined protesters carried banners slogans bush number one terrorist stop bombings  \n",
       "2                                                                            marched houses parliament rally hyde park  \n",
       "3                                                           police put number marchers 10000 organizers claimed 100000  \n",
       "4              protest comes eve annual conference britain ruling labor party southern english seaside resort brighton  "
      ]
     },
     "execution_count": 38,
     "metadata": {},
     "output_type": "execute_result"
    }
   ],
   "source": [
    "sentences_df.head()"
   ]
  },
  {
   "cell_type": "code",
   "execution_count": 39,
   "metadata": {},
   "outputs": [],
   "source": [
    "sentences_df['sent_lemmatized_lower'] = sentences_df['sent_lemmatized'].str.lower()"
   ]
  },
  {
   "cell_type": "code",
   "execution_count": 40,
   "metadata": {},
   "outputs": [],
   "source": [
    "def remove_punct_stopwords(sentence):\n",
    "    sentence = remove_punctuation(sentence)\n",
    "    return remove_stopwords(sentence)\n",
    "\n",
    "sentences_df['sent_lemmatized_wo_punct_sw'] = sentences_df['sent_lemmatized_lower'].apply(lambda sentence: remove_punct_stopwords(sentence))"
   ]
  },
  {
   "cell_type": "code",
   "execution_count": 41,
   "metadata": {},
   "outputs": [
    {
     "data": {
      "text/html": [
       "<div>\n",
       "<style scoped>\n",
       "    .dataframe tbody tr th:only-of-type {\n",
       "        vertical-align: middle;\n",
       "    }\n",
       "\n",
       "    .dataframe tbody tr th {\n",
       "        vertical-align: top;\n",
       "    }\n",
       "\n",
       "    .dataframe thead th {\n",
       "        text-align: right;\n",
       "    }\n",
       "</style>\n",
       "<table border=\"1\" class=\"dataframe\">\n",
       "  <thead>\n",
       "    <tr style=\"text-align: right;\">\n",
       "      <th></th>\n",
       "      <th>Sentence #</th>\n",
       "      <th>Sentences</th>\n",
       "      <th>sent_lower</th>\n",
       "      <th>sent_wo_punc</th>\n",
       "      <th>sent_wo_punc_lower</th>\n",
       "      <th>sent_lemmatized</th>\n",
       "      <th>sent_lemmatized_lower</th>\n",
       "      <th>sent_wo_stop</th>\n",
       "      <th>sent_lemmatized_wo_punct_sw</th>\n",
       "    </tr>\n",
       "  </thead>\n",
       "  <tbody>\n",
       "    <tr>\n",
       "      <th>0</th>\n",
       "      <td>1</td>\n",
       "      <td>Thousands of demonstrators have marched through London to protest the war in Iraq and demand the withdrawal of British troops from that country .</td>\n",
       "      <td>thousands of demonstrators have marched through london to protest the war in iraq and demand the withdrawal of british troops from that country .</td>\n",
       "      <td>Thousands of demonstrators have marched through London to protest the war in Iraq and demand the withdrawal of British troops from that country</td>\n",
       "      <td>thousands of demonstrators have marched through london to protest the war in iraq and demand the withdrawal of british troops from that country</td>\n",
       "      <td>Thousands of demonstrator have march through London to protest the war in Iraq and demand the withdrawal of British troop from that country .</td>\n",
       "      <td>thousands of demonstrator have march through london to protest the war in iraq and demand the withdrawal of british troop from that country .</td>\n",
       "      <td>thousands demonstrators marched london protest war iraq demand withdrawal british troops country</td>\n",
       "      <td>thousands demonstrator march london protest war iraq demand withdrawal british troop country</td>\n",
       "    </tr>\n",
       "    <tr>\n",
       "      <th>1</th>\n",
       "      <td>2</td>\n",
       "      <td>Families of soldiers killed in the conflict joined the protesters who carried banners with such slogans as \" Bush Number One Terrorist \" and \" Stop the Bombings . \"</td>\n",
       "      <td>families of soldiers killed in the conflict joined the protesters who carried banners with such slogans as \" bush number one terrorist \" and \" stop the bombings . \"</td>\n",
       "      <td>Families of soldiers killed in the conflict joined the protesters who carried banners with such slogans as  Bush Number One Terrorist  and  Stop the Bombings</td>\n",
       "      <td>families of soldiers killed in the conflict joined the protesters who carried banners with such slogans as  bush number one terrorist  and  stop the bombings</td>\n",
       "      <td>Families of soldier kill in the conflict join the protester who carry banner with such slogan a \" Bush Number One Terrorist \" and \" Stop the Bombings . \"</td>\n",
       "      <td>families of soldier kill in the conflict join the protester who carry banner with such slogan a \" bush number one terrorist \" and \" stop the bombings . \"</td>\n",
       "      <td>families soldiers killed conflict joined protesters carried banners slogans bush number one terrorist stop bombings</td>\n",
       "      <td>families soldier kill conflict join protester carry banner slogan bush number one terrorist stop bombings</td>\n",
       "    </tr>\n",
       "    <tr>\n",
       "      <th>2</th>\n",
       "      <td>3</td>\n",
       "      <td>They marched from the Houses of Parliament to a rally in Hyde Park .</td>\n",
       "      <td>they marched from the houses of parliament to a rally in hyde park .</td>\n",
       "      <td>They marched from the Houses of Parliament to a rally in Hyde Park</td>\n",
       "      <td>they marched from the houses of parliament to a rally in hyde park</td>\n",
       "      <td>They march from the Houses of Parliament to a rally in Hyde Park .</td>\n",
       "      <td>they march from the houses of parliament to a rally in hyde park .</td>\n",
       "      <td>marched houses parliament rally hyde park</td>\n",
       "      <td>march houses parliament rally hyde park</td>\n",
       "    </tr>\n",
       "    <tr>\n",
       "      <th>3</th>\n",
       "      <td>4</td>\n",
       "      <td>Police put the number of marchers at 10,000 while organizers claimed it was 1,00,000 .</td>\n",
       "      <td>police put the number of marchers at 10,000 while organizers claimed it was 1,00,000 .</td>\n",
       "      <td>Police put the number of marchers at 10000 while organizers claimed it was 100000</td>\n",
       "      <td>police put the number of marchers at 10000 while organizers claimed it was 100000</td>\n",
       "      <td>Police put the number of marcher at 10,000 while organizer claim it be 1,00,000 .</td>\n",
       "      <td>police put the number of marcher at 10,000 while organizer claim it be 1,00,000 .</td>\n",
       "      <td>police put number marchers 10000 organizers claimed 100000</td>\n",
       "      <td>police put number marcher 10000 organizer claim 100000</td>\n",
       "    </tr>\n",
       "    <tr>\n",
       "      <th>4</th>\n",
       "      <td>5</td>\n",
       "      <td>The protest comes on the eve of the annual conference of Britain 's ruling Labor Party in the southern English seaside resort of Brighton .</td>\n",
       "      <td>the protest comes on the eve of the annual conference of britain 's ruling labor party in the southern english seaside resort of brighton .</td>\n",
       "      <td>The protest comes on the eve of the annual conference of Britain s ruling Labor Party in the southern English seaside resort of Brighton</td>\n",
       "      <td>the protest comes on the eve of the annual conference of britain s ruling labor party in the southern english seaside resort of brighton</td>\n",
       "      <td>The protest come on the eve of the annual conference of Britain 's ruling Labor Party in the southern English seaside resort of Brighton .</td>\n",
       "      <td>the protest come on the eve of the annual conference of britain 's ruling labor party in the southern english seaside resort of brighton .</td>\n",
       "      <td>protest comes eve annual conference britain ruling labor party southern english seaside resort brighton</td>\n",
       "      <td>protest come eve annual conference britain ruling labor party southern english seaside resort brighton</td>\n",
       "    </tr>\n",
       "    <tr>\n",
       "      <th>...</th>\n",
       "      <td>...</td>\n",
       "      <td>...</td>\n",
       "      <td>...</td>\n",
       "      <td>...</td>\n",
       "      <td>...</td>\n",
       "      <td>...</td>\n",
       "      <td>...</td>\n",
       "      <td>...</td>\n",
       "      <td>...</td>\n",
       "    </tr>\n",
       "    <tr>\n",
       "      <th>47953</th>\n",
       "      <td>47955</td>\n",
       "      <td>Indian border security forces are accusing their Pakistani counterparts of lobbing at least four rockets into northern Punjab state .</td>\n",
       "      <td>indian border security forces are accusing their pakistani counterparts of lobbing at least four rockets into northern punjab state .</td>\n",
       "      <td>Indian border security forces are accusing their Pakistani counterparts of lobbing at least four rockets into northern Punjab state</td>\n",
       "      <td>indian border security forces are accusing their pakistani counterparts of lobbing at least four rockets into northern punjab state</td>\n",
       "      <td>Indian border security force be accuse their Pakistani counterpart of lob at least four rocket into northern Punjab state .</td>\n",
       "      <td>indian border security force be accuse their pakistani counterpart of lob at least four rocket into northern punjab state .</td>\n",
       "      <td>indian border security forces accusing pakistani counterparts lobbing least four rockets northern punjab state</td>\n",
       "      <td>indian border security force accuse pakistani counterpart lob least four rocket northern punjab state</td>\n",
       "    </tr>\n",
       "    <tr>\n",
       "      <th>47954</th>\n",
       "      <td>47956</td>\n",
       "      <td>Indian officials said no one was injured in Saturday 's incident but that two of the rockets landed near a border security outpost .</td>\n",
       "      <td>indian officials said no one was injured in saturday 's incident but that two of the rockets landed near a border security outpost .</td>\n",
       "      <td>Indian officials said no one was injured in Saturday s incident but that two of the rockets landed near a border security outpost</td>\n",
       "      <td>indian officials said no one was injured in saturday s incident but that two of the rockets landed near a border security outpost</td>\n",
       "      <td>Indian official say no one be injure in Saturday 's incident but that two of the rocket land near a border security outpost .</td>\n",
       "      <td>indian official say no one be injure in saturday 's incident but that two of the rocket land near a border security outpost .</td>\n",
       "      <td>indian officials said one injured saturday incident two rockets landed near border security outpost</td>\n",
       "      <td>indian official say one injure saturday incident two rocket land near border security outpost</td>\n",
       "    </tr>\n",
       "    <tr>\n",
       "      <th>47955</th>\n",
       "      <td>47957</td>\n",
       "      <td>Two more landed in fields belonging to a nearby village .</td>\n",
       "      <td>two more landed in fields belonging to a nearby village .</td>\n",
       "      <td>Two more landed in fields belonging to a nearby village</td>\n",
       "      <td>two more landed in fields belonging to a nearby village</td>\n",
       "      <td>Two more land in field belong to a nearby village .</td>\n",
       "      <td>two more land in field belong to a nearby village .</td>\n",
       "      <td>two landed fields belonging nearby village</td>\n",
       "      <td>two land field belong nearby village</td>\n",
       "    </tr>\n",
       "    <tr>\n",
       "      <th>47956</th>\n",
       "      <td>47958</td>\n",
       "      <td>They say not all of the rockets exploded upon impact .</td>\n",
       "      <td>they say not all of the rockets exploded upon impact .</td>\n",
       "      <td>They say not all of the rockets exploded upon impact</td>\n",
       "      <td>they say not all of the rockets exploded upon impact</td>\n",
       "      <td>They say not all of the rocket explode upon impact .</td>\n",
       "      <td>they say not all of the rocket explode upon impact .</td>\n",
       "      <td>say rockets exploded upon impact</td>\n",
       "      <td>say rocket explode upon impact</td>\n",
       "    </tr>\n",
       "    <tr>\n",
       "      <th>47957</th>\n",
       "      <td>47959</td>\n",
       "      <td>Indian forces said they responded to the attack</td>\n",
       "      <td>indian forces said they responded to the attack</td>\n",
       "      <td>Indian forces said they responded to the attack</td>\n",
       "      <td>indian forces said they responded to the attack</td>\n",
       "      <td>Indian force say they respond to the attack</td>\n",
       "      <td>indian force say they respond to the attack</td>\n",
       "      <td>indian forces said responded attack</td>\n",
       "      <td>indian force say respond attack</td>\n",
       "    </tr>\n",
       "  </tbody>\n",
       "</table>\n",
       "<p>47958 rows × 9 columns</p>\n",
       "</div>"
      ],
      "text/plain": [
       "       Sentence #  \\\n",
       "0               1   \n",
       "1               2   \n",
       "2               3   \n",
       "3               4   \n",
       "4               5   \n",
       "...           ...   \n",
       "47953       47955   \n",
       "47954       47956   \n",
       "47955       47957   \n",
       "47956       47958   \n",
       "47957       47959   \n",
       "\n",
       "                                                                                                                                                                  Sentences  \\\n",
       "0                         Thousands of demonstrators have marched through London to protest the war in Iraq and demand the withdrawal of British troops from that country .   \n",
       "1      Families of soldiers killed in the conflict joined the protesters who carried banners with such slogans as \" Bush Number One Terrorist \" and \" Stop the Bombings . \"   \n",
       "2                                                                                                      They marched from the Houses of Parliament to a rally in Hyde Park .   \n",
       "3                                                                                    Police put the number of marchers at 10,000 while organizers claimed it was 1,00,000 .   \n",
       "4                               The protest comes on the eve of the annual conference of Britain 's ruling Labor Party in the southern English seaside resort of Brighton .   \n",
       "...                                                                                                                                                                     ...   \n",
       "47953                                 Indian border security forces are accusing their Pakistani counterparts of lobbing at least four rockets into northern Punjab state .   \n",
       "47954                                  Indian officials said no one was injured in Saturday 's incident but that two of the rockets landed near a border security outpost .   \n",
       "47955                                                                                                             Two more landed in fields belonging to a nearby village .   \n",
       "47956                                                                                                                They say not all of the rockets exploded upon impact .   \n",
       "47957                                                                                                                       Indian forces said they responded to the attack   \n",
       "\n",
       "                                                                                                                                                                 sent_lower  \\\n",
       "0                         thousands of demonstrators have marched through london to protest the war in iraq and demand the withdrawal of british troops from that country .   \n",
       "1      families of soldiers killed in the conflict joined the protesters who carried banners with such slogans as \" bush number one terrorist \" and \" stop the bombings . \"   \n",
       "2                                                                                                      they marched from the houses of parliament to a rally in hyde park .   \n",
       "3                                                                                    police put the number of marchers at 10,000 while organizers claimed it was 1,00,000 .   \n",
       "4                               the protest comes on the eve of the annual conference of britain 's ruling labor party in the southern english seaside resort of brighton .   \n",
       "...                                                                                                                                                                     ...   \n",
       "47953                                 indian border security forces are accusing their pakistani counterparts of lobbing at least four rockets into northern punjab state .   \n",
       "47954                                  indian officials said no one was injured in saturday 's incident but that two of the rockets landed near a border security outpost .   \n",
       "47955                                                                                                             two more landed in fields belonging to a nearby village .   \n",
       "47956                                                                                                                they say not all of the rockets exploded upon impact .   \n",
       "47957                                                                                                                       indian forces said they responded to the attack   \n",
       "\n",
       "                                                                                                                                                          sent_wo_punc  \\\n",
       "0                     Thousands of demonstrators have marched through London to protest the war in Iraq and demand the withdrawal of British troops from that country    \n",
       "1      Families of soldiers killed in the conflict joined the protesters who carried banners with such slogans as  Bush Number One Terrorist  and  Stop the Bombings     \n",
       "2                                                                                                  They marched from the Houses of Parliament to a rally in Hyde Park    \n",
       "3                                                                                   Police put the number of marchers at 10000 while organizers claimed it was 100000    \n",
       "4                            The protest comes on the eve of the annual conference of Britain s ruling Labor Party in the southern English seaside resort of Brighton    \n",
       "...                                                                                                                                                                ...   \n",
       "47953                             Indian border security forces are accusing their Pakistani counterparts of lobbing at least four rockets into northern Punjab state    \n",
       "47954                               Indian officials said no one was injured in Saturday s incident but that two of the rockets landed near a border security outpost    \n",
       "47955                                                                                                         Two more landed in fields belonging to a nearby village    \n",
       "47956                                                                                                            They say not all of the rockets exploded upon impact    \n",
       "47957                                                                                                                  Indian forces said they responded to the attack   \n",
       "\n",
       "                                                                                                                                                    sent_wo_punc_lower  \\\n",
       "0                     thousands of demonstrators have marched through london to protest the war in iraq and demand the withdrawal of british troops from that country    \n",
       "1      families of soldiers killed in the conflict joined the protesters who carried banners with such slogans as  bush number one terrorist  and  stop the bombings     \n",
       "2                                                                                                  they marched from the houses of parliament to a rally in hyde park    \n",
       "3                                                                                   police put the number of marchers at 10000 while organizers claimed it was 100000    \n",
       "4                            the protest comes on the eve of the annual conference of britain s ruling labor party in the southern english seaside resort of brighton    \n",
       "...                                                                                                                                                                ...   \n",
       "47953                             indian border security forces are accusing their pakistani counterparts of lobbing at least four rockets into northern punjab state    \n",
       "47954                               indian officials said no one was injured in saturday s incident but that two of the rockets landed near a border security outpost    \n",
       "47955                                                                                                         two more landed in fields belonging to a nearby village    \n",
       "47956                                                                                                            they say not all of the rockets exploded upon impact    \n",
       "47957                                                                                                                  indian forces said they responded to the attack   \n",
       "\n",
       "                                                                                                                                                 sent_lemmatized  \\\n",
       "0                  Thousands of demonstrator have march through London to protest the war in Iraq and demand the withdrawal of British troop from that country .   \n",
       "1      Families of soldier kill in the conflict join the protester who carry banner with such slogan a \" Bush Number One Terrorist \" and \" Stop the Bombings . \"   \n",
       "2                                                                                             They march from the Houses of Parliament to a rally in Hyde Park .   \n",
       "3                                                                              Police put the number of marcher at 10,000 while organizer claim it be 1,00,000 .   \n",
       "4                     The protest come on the eve of the annual conference of Britain 's ruling Labor Party in the southern English seaside resort of Brighton .   \n",
       "...                                                                                                                                                          ...   \n",
       "47953                                Indian border security force be accuse their Pakistani counterpart of lob at least four rocket into northern Punjab state .   \n",
       "47954                              Indian official say no one be injure in Saturday 's incident but that two of the rocket land near a border security outpost .   \n",
       "47955                                                                                                        Two more land in field belong to a nearby village .   \n",
       "47956                                                                                                       They say not all of the rocket explode upon impact .   \n",
       "47957                                                                                                                Indian force say they respond to the attack   \n",
       "\n",
       "                                                                                                                                           sent_lemmatized_lower  \\\n",
       "0                  thousands of demonstrator have march through london to protest the war in iraq and demand the withdrawal of british troop from that country .   \n",
       "1      families of soldier kill in the conflict join the protester who carry banner with such slogan a \" bush number one terrorist \" and \" stop the bombings . \"   \n",
       "2                                                                                             they march from the houses of parliament to a rally in hyde park .   \n",
       "3                                                                              police put the number of marcher at 10,000 while organizer claim it be 1,00,000 .   \n",
       "4                     the protest come on the eve of the annual conference of britain 's ruling labor party in the southern english seaside resort of brighton .   \n",
       "...                                                                                                                                                          ...   \n",
       "47953                                indian border security force be accuse their pakistani counterpart of lob at least four rocket into northern punjab state .   \n",
       "47954                              indian official say no one be injure in saturday 's incident but that two of the rocket land near a border security outpost .   \n",
       "47955                                                                                                        two more land in field belong to a nearby village .   \n",
       "47956                                                                                                       they say not all of the rocket explode upon impact .   \n",
       "47957                                                                                                                indian force say they respond to the attack   \n",
       "\n",
       "                                                                                                              sent_wo_stop  \\\n",
       "0                         thousands demonstrators marched london protest war iraq demand withdrawal british troops country   \n",
       "1      families soldiers killed conflict joined protesters carried banners slogans bush number one terrorist stop bombings   \n",
       "2                                                                                marched houses parliament rally hyde park   \n",
       "3                                                               police put number marchers 10000 organizers claimed 100000   \n",
       "4                  protest comes eve annual conference britain ruling labor party southern english seaside resort brighton   \n",
       "...                                                                                                                    ...   \n",
       "47953       indian border security forces accusing pakistani counterparts lobbing least four rockets northern punjab state   \n",
       "47954                  indian officials said one injured saturday incident two rockets landed near border security outpost   \n",
       "47955                                                                           two landed fields belonging nearby village   \n",
       "47956                                                                                     say rockets exploded upon impact   \n",
       "47957                                                                                  indian forces said responded attack   \n",
       "\n",
       "                                                                                     sent_lemmatized_wo_punct_sw  \n",
       "0                   thousands demonstrator march london protest war iraq demand withdrawal british troop country  \n",
       "1      families soldier kill conflict join protester carry banner slogan bush number one terrorist stop bombings  \n",
       "2                                                                        march houses parliament rally hyde park  \n",
       "3                                                         police put number marcher 10000 organizer claim 100000  \n",
       "4         protest come eve annual conference britain ruling labor party southern english seaside resort brighton  \n",
       "...                                                                                                          ...  \n",
       "47953      indian border security force accuse pakistani counterpart lob least four rocket northern punjab state  \n",
       "47954              indian official say one injure saturday incident two rocket land near border security outpost  \n",
       "47955                                                                       two land field belong nearby village  \n",
       "47956                                                                             say rocket explode upon impact  \n",
       "47957                                                                            indian force say respond attack  \n",
       "\n",
       "[47958 rows x 9 columns]"
      ]
     },
     "execution_count": 41,
     "metadata": {},
     "output_type": "execute_result"
    }
   ],
   "source": [
    "sentences_df"
   ]
  },
  {
   "cell_type": "code",
   "execution_count": 42,
   "metadata": {},
   "outputs": [
    {
     "data": {
      "text/plain": [
       "Sentence #                     0\n",
       "Sentences                      0\n",
       "sent_lower                     0\n",
       "sent_wo_punc                   0\n",
       "sent_wo_punc_lower             0\n",
       "sent_lemmatized                0\n",
       "sent_lemmatized_lower          0\n",
       "sent_wo_stop                   0\n",
       "sent_lemmatized_wo_punct_sw    0\n",
       "dtype: int64"
      ]
     },
     "execution_count": 42,
     "metadata": {},
     "output_type": "execute_result"
    }
   ],
   "source": [
    "sentences_df.isna().sum()"
   ]
  },
  {
   "cell_type": "markdown",
   "metadata": {},
   "source": [
    "### Save `sentences_df` as csv files"
   ]
  },
  {
   "cell_type": "code",
   "execution_count": 70,
   "metadata": {},
   "outputs": [],
   "source": [
    "# reduced_df.to_csv('reduced_df.csv')\n",
    "# sentences_df.to_csv('sentences_v1.csv')"
   ]
  },
  {
   "cell_type": "markdown",
   "metadata": {},
   "source": [
    "## LDA Model"
   ]
  },
  {
   "cell_type": "code",
   "execution_count": 43,
   "metadata": {},
   "outputs": [],
   "source": [
    "from gensim import models, matutils\n",
    "from sklearn.feature_extraction.text import CountVectorizer"
   ]
  },
  {
   "cell_type": "markdown",
   "metadata": {},
   "source": [
    "#### LDA model + BOW "
   ]
  },
  {
   "cell_type": "code",
   "execution_count": 44,
   "metadata": {},
   "outputs": [],
   "source": [
    "shortened_sent = sentences_df['sent_lemmatized_wo_punct_sw'].copy()"
   ]
  },
  {
   "cell_type": "code",
   "execution_count": 45,
   "metadata": {},
   "outputs": [],
   "source": [
    "bow_vectorizer = CountVectorizer()\n",
    "shortened_sent_bow = bow_vectorizer.fit_transform(shortened_sent)"
   ]
  },
  {
   "cell_type": "code",
   "execution_count": 46,
   "metadata": {},
   "outputs": [
    {
     "data": {
      "text/plain": [
       "(47958, 26981)"
      ]
     },
     "execution_count": 46,
     "metadata": {},
     "output_type": "execute_result"
    }
   ],
   "source": [
    "shortened_sent_bow.shape"
   ]
  },
  {
   "cell_type": "code",
   "execution_count": 47,
   "metadata": {},
   "outputs": [
    {
     "data": {
      "text/plain": [
       "scipy.sparse._csr.csr_matrix"
      ]
     },
     "execution_count": 47,
     "metadata": {},
     "output_type": "execute_result"
    }
   ],
   "source": [
    "type(shortened_sent_bow)"
   ]
  },
  {
   "cell_type": "code",
   "execution_count": 48,
   "metadata": {},
   "outputs": [],
   "source": [
    "id2word = {idx: word for word, idx in bow_vectorizer.vocabulary_.items()}\n",
    "corpus = shortened_sent_bow.transpose()\n",
    "corpus = matutils.Sparse2Corpus(corpus)"
   ]
  },
  {
   "cell_type": "code",
   "execution_count": 49,
   "metadata": {},
   "outputs": [
    {
     "data": {
      "text/plain": [
       "[(0,\n",
       "  '0.036*\"say\" + 0.016*\"kill\" + 0.012*\"people\" + 0.011*\"official\" + 0.011*\"attack\" + 0.010*\"two\" + 0.009*\"police\" + 0.008*\"force\" + 0.007*\"us\" + 0.007*\"militant\"'),\n",
       " (1,\n",
       "  '0.011*\"say\" + 0.009*\"year\" + 0.006*\"last\" + 0.006*\"one\" + 0.004*\"report\" + 0.004*\"world\" + 0.004*\"new\" + 0.004*\"day\" + 0.004*\"week\" + 0.004*\"first\"'),\n",
       " (2,\n",
       "  '0.022*\"say\" + 0.011*\"president\" + 0.010*\"mr\" + 0.010*\"us\" + 0.008*\"government\" + 0.007*\"united\" + 0.007*\"country\" + 0.006*\"minister\" + 0.006*\"new\" + 0.006*\"iran\"')]"
      ]
     },
     "execution_count": 49,
     "metadata": {},
     "output_type": "execute_result"
    }
   ],
   "source": [
    "lad = models.LdaModel(corpus, num_topics=3, id2word=id2word)\n",
    "lad.print_topics()"
   ]
  },
  {
   "cell_type": "markdown",
   "metadata": {},
   "source": [
    "## Word embedding"
   ]
  },
  {
   "cell_type": "markdown",
   "metadata": {},
   "source": [
    "### word2vec for future reference"
   ]
  },
  {
   "cell_type": "code",
   "execution_count": null,
   "metadata": {},
   "outputs": [],
   "source": [
    "## Download the full model \n",
    "# import gensim.downloader as api \n",
    "# wv = api.load('word2vec-google-news-300')"
   ]
  },
  {
   "cell_type": "markdown",
   "metadata": {},
   "source": [
    "## Clustering Model "
   ]
  },
  {
   "cell_type": "markdown",
   "metadata": {},
   "source": [
    "### K-Mean with bag of words"
   ]
  },
  {
   "cell_type": "code",
   "execution_count": 58,
   "metadata": {},
   "outputs": [],
   "source": [
    "from sklearn.pipeline import Pipeline\n",
    "from sklearn.cluster import KMeans\n",
    "from sklearn.feature_extraction.text import CountVectorizer, TfidfVectorizer\n",
    "\n",
    "from sklearn.metrics import silhouette_score, calinski_harabasz_score, davies_bouldin_score"
   ]
  },
  {
   "cell_type": "markdown",
   "metadata": {},
   "source": [
    "Use bag of words to encode shortened sentences"
   ]
  },
  {
   "cell_type": "code",
   "execution_count": 33,
   "metadata": {},
   "outputs": [
    {
     "name": "stdout",
     "output_type": "stream",
     "text": [
      "(47959, 27706)\n"
     ]
    }
   ],
   "source": [
    "vectorizer = CountVectorizer()\n",
    "shortened_sentences_bow = vectorizer.fit_transform(sentences_df['Shortened Sentences'])\n",
    "print(shortened_sentences_bow.shape)"
   ]
  },
  {
   "cell_type": "markdown",
   "metadata": {},
   "source": [
    "Fit and evaluate K-Mean model (true labels are unknown)"
   ]
  },
  {
   "cell_type": "code",
   "execution_count": 57,
   "metadata": {},
   "outputs": [
    {
     "name": "stdout",
     "output_type": "stream",
     "text": [
      "n_clusters = 3: Silhouette Coefficient: 0.010068379210426638\n",
      "n_clusters = 4: Silhouette Coefficient: 0.011919093397266331\n",
      "n_clusters = 5: Silhouette Coefficient: 0.013364127035644687\n",
      "n_clusters = 6: Silhouette Coefficient: 0.012966342284531843\n",
      "n_clusters = 7: Silhouette Coefficient: 0.032791462910272025\n",
      "n_clusters = 8: Silhouette Coefficient: 0.028764928833763415\n",
      "n_clusters = 9: Silhouette Coefficient: 0.014308675488758934\n",
      "n_clusters = 10: Silhouette Coefficient: 0.013340042737080206\n",
      "n_clusters = 11: Silhouette Coefficient: 0.011698526249829278\n",
      "n_clusters = 12: Silhouette Coefficient: 0.012158417380356865\n",
      "n_clusters = 13: Silhouette Coefficient: 0.013536046907808304\n",
      "n_clusters = 14: Silhouette Coefficient: 0.009958963172837274\n"
     ]
    }
   ],
   "source": [
    "for n_cluster in range(3,15):\n",
    "    kmeans_model = KMeans(n_clusters=n_cluster, random_state=1).fit(shortened_sentences_bow)\n",
    "    labels = kmeans_model.labels_\n",
    "\n",
    "    # print(f'Calinski-Harabasz Index: {calinski_harabasz_score(sample_data, labels)}')\n",
    "    # print(f'Davies-Bouldin Index: {davies_bouldin_score(sample_data, labels)}')\n",
    "    print(f'n_clusters = {n_cluster}: Silhouette Coefficient: {silhouette_score(shortened_sentences_bow, labels)}')"
   ]
  },
  {
   "cell_type": "markdown",
   "metadata": {},
   "source": [
    "### K-Mean with TF-IDF "
   ]
  },
  {
   "cell_type": "code",
   "execution_count": 59,
   "metadata": {},
   "outputs": [],
   "source": [
    "vectorizer_tfidf = TfidfVectorizer()\n",
    "shortened_sentences_tfidf = vectorizer_tfidf.fit_transform(sentences_df['Shortened Sentences'])"
   ]
  },
  {
   "cell_type": "code",
   "execution_count": 61,
   "metadata": {},
   "outputs": [
    {
     "data": {
      "text/plain": [
       "(47959, 27706)"
      ]
     },
     "execution_count": 61,
     "metadata": {},
     "output_type": "execute_result"
    }
   ],
   "source": [
    "shortened_sentences_tfidf.shape"
   ]
  },
  {
   "cell_type": "code",
   "execution_count": 62,
   "metadata": {},
   "outputs": [
    {
     "name": "stdout",
     "output_type": "stream",
     "text": [
      "n_clusters = 3: Silhouette Coefficient: 0.001727999414975458\n",
      "n_clusters = 4: Silhouette Coefficient: 0.0022900932816321737\n",
      "n_clusters = 5: Silhouette Coefficient: 0.0025437715733283026\n",
      "n_clusters = 6: Silhouette Coefficient: 0.003272915172624837\n",
      "n_clusters = 7: Silhouette Coefficient: 0.003644550697878073\n",
      "n_clusters = 8: Silhouette Coefficient: 0.003361256118098299\n",
      "n_clusters = 9: Silhouette Coefficient: 0.003750177526948939\n",
      "n_clusters = 10: Silhouette Coefficient: 0.004631039850651867\n",
      "n_clusters = 11: Silhouette Coefficient: 0.004013381132652468\n",
      "n_clusters = 12: Silhouette Coefficient: 0.0042527648207261876\n",
      "n_clusters = 13: Silhouette Coefficient: 0.005017270655819071\n",
      "n_clusters = 14: Silhouette Coefficient: 0.005285629825189062\n"
     ]
    }
   ],
   "source": [
    "for n_cluster in range(3,15):\n",
    "    kmeans_model = KMeans(n_clusters=n_cluster, random_state=1).fit(shortened_sentences_tfidf)\n",
    "    labels = kmeans_model.labels_\n",
    "\n",
    "    # print(f'Calinski-Harabasz Index: {calinski_harabasz_score(sample_data, labels)}')\n",
    "    # print(f'Davies-Bouldin Index: {davies_bouldin_score(sample_data, labels)}')\n",
    "    print(f'n_clusters = {n_cluster}: Silhouette Coefficient: {silhouette_score(shortened_sentences_tfidf, labels)}')"
   ]
  },
  {
   "cell_type": "code",
   "execution_count": null,
   "metadata": {},
   "outputs": [],
   "source": []
  }
 ],
 "metadata": {
  "kernelspec": {
   "display_name": "Python 3.9.13 ('glg')",
   "language": "python",
   "name": "python3"
  },
  "language_info": {
   "codemirror_mode": {
    "name": "ipython",
    "version": 3
   },
   "file_extension": ".py",
   "mimetype": "text/x-python",
   "name": "python",
   "nbconvert_exporter": "python",
   "pygments_lexer": "ipython3",
   "version": "3.9.13"
  },
  "orig_nbformat": 4,
  "vscode": {
   "interpreter": {
    "hash": "a089b623389f25476dadc88e27c19e01bed25fe38415d8d9feae642f6af10d88"
   }
  }
 },
 "nbformat": 4,
 "nbformat_minor": 2
}
