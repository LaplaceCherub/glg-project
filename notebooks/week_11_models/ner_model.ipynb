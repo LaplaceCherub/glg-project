{
 "cells": [
  {
   "cell_type": "code",
   "execution_count": 3,
   "metadata": {},
   "outputs": [],
   "source": [
    "import pandas as pd\n",
    "import spacy\n",
    "from spacy.tokens import Doc\n",
    "from nltk import WordNetLemmatizer\n",
    "from sklearn.linear_model import LogisticRegression\n",
    "from xgboost import XGBClassifier\n",
    "from sklearn.preprocessing import OneHotEncoder\n",
    "from sklearn.compose import ColumnTransformer\n",
    "from sklearn.pipeline import Pipeline\n",
    "from sklearn.impute import SimpleImputer\n",
    "import pickle\n",
    "\n",
    "from sklearn.metrics import (\n",
    "    confusion_matrix,\n",
    "    accuracy_score as accuracy,\n",
    "    recall_score as recall,\n",
    "    precision_score as precision,\n",
    "    f1_score\n",
    ")\n",
    "\n",
    "def display_metrics(y_true, y_pred):\n",
    "    print(f'Confusion Matrix: \\n{confusion_matrix(y_true, y_pred)}')\n",
    "    print('Accuracy: {:.3f}'.format(accuracy(y_true, y_pred)))\n",
    "    print('Recall: {:.3f}'.format(recall(y_true, y_pred)))\n",
    "    print('Precision: {:.3f}'.format(precision(y_true, y_pred)))\n",
    "    print('F1 Score: {:.3f}'.format(f1_score(y_true, y_pred)))"
   ]
  },
  {
   "cell_type": "code",
   "execution_count": 4,
   "metadata": {},
   "outputs": [],
   "source": [
    "ner_df = pd.read_csv('../../datasets/extended_df.csv')\n",
    "ner_df.drop(columns=['Unnamed: 0'], inplace=True)\n",
    "ner_df['Sentence #'] = ner_df['Sentence #'].str.replace('Sentence: ','')\n",
    "ner_df['Sentence #'].fillna(method='ffill', inplace=True)\n",
    "ner_df['Sentence #'] = ner_df['Sentence #'].astype('int64')"
   ]
  },
  {
   "cell_type": "code",
   "execution_count": 5,
   "metadata": {},
   "outputs": [
    {
     "data": {
      "text/html": [
       "<div>\n",
       "<style scoped>\n",
       "    .dataframe tbody tr th:only-of-type {\n",
       "        vertical-align: middle;\n",
       "    }\n",
       "\n",
       "    .dataframe tbody tr th {\n",
       "        vertical-align: top;\n",
       "    }\n",
       "\n",
       "    .dataframe thead th {\n",
       "        text-align: right;\n",
       "    }\n",
       "</style>\n",
       "<table border=\"1\" class=\"dataframe\">\n",
       "  <thead>\n",
       "    <tr style=\"text-align: right;\">\n",
       "      <th></th>\n",
       "      <th>Sentence #</th>\n",
       "      <th>Word</th>\n",
       "      <th>POS</th>\n",
       "      <th>Tag</th>\n",
       "      <th>WordLength</th>\n",
       "      <th>Capital</th>\n",
       "      <th>Non-Punctuation</th>\n",
       "      <th>StopWord</th>\n",
       "      <th>IsNER</th>\n",
       "    </tr>\n",
       "  </thead>\n",
       "  <tbody>\n",
       "    <tr>\n",
       "      <th>0</th>\n",
       "      <td>1</td>\n",
       "      <td>Thousands</td>\n",
       "      <td>NNS</td>\n",
       "      <td>O</td>\n",
       "      <td>9</td>\n",
       "      <td>True</td>\n",
       "      <td>True</td>\n",
       "      <td>False</td>\n",
       "      <td>0</td>\n",
       "    </tr>\n",
       "    <tr>\n",
       "      <th>1</th>\n",
       "      <td>1</td>\n",
       "      <td>of</td>\n",
       "      <td>IN</td>\n",
       "      <td>O</td>\n",
       "      <td>2</td>\n",
       "      <td>False</td>\n",
       "      <td>True</td>\n",
       "      <td>True</td>\n",
       "      <td>0</td>\n",
       "    </tr>\n",
       "    <tr>\n",
       "      <th>2</th>\n",
       "      <td>1</td>\n",
       "      <td>demonstrators</td>\n",
       "      <td>NNS</td>\n",
       "      <td>O</td>\n",
       "      <td>13</td>\n",
       "      <td>False</td>\n",
       "      <td>True</td>\n",
       "      <td>False</td>\n",
       "      <td>0</td>\n",
       "    </tr>\n",
       "    <tr>\n",
       "      <th>3</th>\n",
       "      <td>1</td>\n",
       "      <td>have</td>\n",
       "      <td>VBP</td>\n",
       "      <td>O</td>\n",
       "      <td>4</td>\n",
       "      <td>False</td>\n",
       "      <td>True</td>\n",
       "      <td>True</td>\n",
       "      <td>0</td>\n",
       "    </tr>\n",
       "    <tr>\n",
       "      <th>4</th>\n",
       "      <td>1</td>\n",
       "      <td>marched</td>\n",
       "      <td>VBN</td>\n",
       "      <td>O</td>\n",
       "      <td>7</td>\n",
       "      <td>False</td>\n",
       "      <td>True</td>\n",
       "      <td>False</td>\n",
       "      <td>0</td>\n",
       "    </tr>\n",
       "  </tbody>\n",
       "</table>\n",
       "</div>"
      ],
      "text/plain": [
       "   Sentence #           Word  POS Tag  WordLength  Capital  Non-Punctuation  \\\n",
       "0           1      Thousands  NNS   O           9     True             True   \n",
       "1           1             of   IN   O           2    False             True   \n",
       "2           1  demonstrators  NNS   O          13    False             True   \n",
       "3           1           have  VBP   O           4    False             True   \n",
       "4           1        marched  VBN   O           7    False             True   \n",
       "\n",
       "   StopWord  IsNER  \n",
       "0     False      0  \n",
       "1      True      0  \n",
       "2     False      0  \n",
       "3      True      0  \n",
       "4     False      0  "
      ]
     },
     "execution_count": 5,
     "metadata": {},
     "output_type": "execute_result"
    }
   ],
   "source": [
    "ner_df.head()"
   ]
  },
  {
   "cell_type": "code",
   "execution_count": 6,
   "metadata": {},
   "outputs": [
    {
     "data": {
      "text/html": [
       "<div>\n",
       "<style scoped>\n",
       "    .dataframe tbody tr th:only-of-type {\n",
       "        vertical-align: middle;\n",
       "    }\n",
       "\n",
       "    .dataframe tbody tr th {\n",
       "        vertical-align: top;\n",
       "    }\n",
       "\n",
       "    .dataframe thead th {\n",
       "        text-align: right;\n",
       "    }\n",
       "</style>\n",
       "<table border=\"1\" class=\"dataframe\">\n",
       "  <thead>\n",
       "    <tr style=\"text-align: right;\">\n",
       "      <th></th>\n",
       "      <th>Sentence #</th>\n",
       "      <th>Word</th>\n",
       "    </tr>\n",
       "  </thead>\n",
       "  <tbody>\n",
       "    <tr>\n",
       "      <th>0</th>\n",
       "      <td>1</td>\n",
       "      <td>Thousands of demonstrators have marched throug...</td>\n",
       "    </tr>\n",
       "    <tr>\n",
       "      <th>1</th>\n",
       "      <td>2</td>\n",
       "      <td>Families of soldiers killed in the conflict jo...</td>\n",
       "    </tr>\n",
       "    <tr>\n",
       "      <th>2</th>\n",
       "      <td>3</td>\n",
       "      <td>They marched from the Houses of Parliament to ...</td>\n",
       "    </tr>\n",
       "    <tr>\n",
       "      <th>3</th>\n",
       "      <td>4</td>\n",
       "      <td>Police put the number of marchers at 10,000 wh...</td>\n",
       "    </tr>\n",
       "    <tr>\n",
       "      <th>4</th>\n",
       "      <td>5</td>\n",
       "      <td>The protest comes on the eve of the annual con...</td>\n",
       "    </tr>\n",
       "  </tbody>\n",
       "</table>\n",
       "</div>"
      ],
      "text/plain": [
       "   Sentence #                                               Word\n",
       "0           1  Thousands of demonstrators have marched throug...\n",
       "1           2  Families of soldiers killed in the conflict jo...\n",
       "2           3  They marched from the Houses of Parliament to ...\n",
       "3           4  Police put the number of marchers at 10,000 wh...\n",
       "4           5  The protest comes on the eve of the annual con..."
      ]
     },
     "execution_count": 6,
     "metadata": {},
     "output_type": "execute_result"
    }
   ],
   "source": [
    "sentence_df = ner_df.groupby('Sentence #', as_index=False)['Word'].apply(lambda x:x.str.cat(sep=' '))\n",
    "sentence_df.head()"
   ]
  },
  {
   "cell_type": "code",
   "execution_count": 7,
   "metadata": {},
   "outputs": [],
   "source": [
    "nlp = spacy.load('en_core_web_sm')\n",
    "def sentence_preprocessor(df):\n",
    "    return_list = []\n",
    "    # for index, sentence in df.iterrows():\n",
    "    #     words = nlp(sentence['Word'])\n",
    "    for sentence in range(df['Sentence #'].max()):\n",
    "        words = nlp(Doc(nlp.vocab, df[df['Sentence #'] == sentence + 1].Word.values))\n",
    "        for word in words:\n",
    "            # print(word)\n",
    "            word_base = word\n",
    "            word_lemma = word.lemma_\n",
    "            word_pos = word.pos_\n",
    "            word_tag = word.tag_\n",
    "            word_dep = word.dep_\n",
    "            word_length = len(word)\n",
    "            word_capitalization = str(word)[0].isupper()\n",
    "            word_punctiation = str(word).isalnum()\n",
    "            word_stop = word.is_stop\n",
    "            is_ner = str(word) in set(ent.text for ent in words.ents)\n",
    "            return_list.append((word_base, word_lemma, word_pos, word_tag, word_dep, word_length, word_capitalization, word_punctiation, word_stop, is_ner))\n",
    "    return return_list\n",
    "\n",
    "df_list = sentence_preprocessor(ner_df)\n",
    "intermediate_df = pd.DataFrame(df_list, columns=['WordBase', 'WordLemma', 'WordPOS', 'WordTag', \n",
    "    'WordDep', 'WordLength', 'IsCapitalized', 'NonPunctuation', 'IsStop', 'PossibleNER'])"
   ]
  },
  {
   "cell_type": "code",
   "execution_count": 8,
   "metadata": {},
   "outputs": [],
   "source": [
    "X_train = intermediate_df[:835700]\n",
    "X_test = intermediate_df[835700:]\n",
    "y_train = ner_df.IsNER[:835700]\n",
    "y_test = ner_df.IsNER[835700:]"
   ]
  },
  {
   "cell_type": "code",
   "execution_count": 9,
   "metadata": {},
   "outputs": [
    {
     "name": "stderr",
     "output_type": "stream",
     "text": [
      "/Users/cody/anaconda3/envs/glg-project/lib/python3.10/site-packages/xgboost/sklearn.py:1224: UserWarning: The use of label encoder in XGBClassifier is deprecated and will be removed in a future release. To remove this warning, do the following: 1) Pass option use_label_encoder=False when constructing XGBClassifier object; and 2) Encode your labels (y) as integers starting with 0, i.e. 0, 1, 2, ..., [num_class - 1].\n",
      "  warnings.warn(label_encoder_deprecation_msg, UserWarning)\n"
     ]
    },
    {
     "name": "stdout",
     "output_type": "stream",
     "text": [
      "[11:47:01] WARNING: /var/folders/sy/f16zz6x50xz3113nwtb9bvq00000gp/T/abs_44tbtwf8c1/croots/recipe/xgboost-split_1659548960882/work/src/learner.cc:1115: Starting in XGBoost 1.3.0, the default evaluation metric used with the objective 'binary:logistic' was changed from 'error' to 'logloss'. Explicitly set eval_metric if you'd like to restore the old behavior.\n",
      "Display metrics for XGB with one-hot encoding:\n",
      "Confusion Matrix: \n",
      "[[186801   3248]\n",
      " [  2820  20006]]\n",
      "Accuracy: 0.971\n",
      "Recall: 0.876\n",
      "Precision: 0.860\n",
      "F1 Score: 0.868\n"
     ]
    },
    {
     "name": "stderr",
     "output_type": "stream",
     "text": [
      "/Users/cody/anaconda3/envs/glg-project/lib/python3.10/site-packages/sklearn/linear_model/_logistic.py:444: ConvergenceWarning: lbfgs failed to converge (status=1):\n",
      "STOP: TOTAL NO. of ITERATIONS REACHED LIMIT.\n",
      "\n",
      "Increase the number of iterations (max_iter) or scale the data as shown in:\n",
      "    https://scikit-learn.org/stable/modules/preprocessing.html\n",
      "Please also refer to the documentation for alternative solver options:\n",
      "    https://scikit-learn.org/stable/modules/linear_model.html#logistic-regression\n",
      "  n_iter_i = _check_optimize_result(\n"
     ]
    },
    {
     "name": "stdout",
     "output_type": "stream",
     "text": [
      "Display metrics for Logistic Regression with one-hot encoding:\n",
      "Confusion Matrix: \n",
      "[[187244   2805]\n",
      " [  2914  19912]]\n",
      "Accuracy: 0.973\n",
      "Recall: 0.872\n",
      "Precision: 0.877\n",
      "F1 Score: 0.874\n"
     ]
    }
   ],
   "source": [
    "xgb_model = XGBClassifier(random_state=42)\n",
    "lr_model = LogisticRegression(random_state=42)\n",
    "models = [xgb_model, lr_model]\n",
    "model_names = ['XGB', 'Logistic Regression']\n",
    "\n",
    "categorical_cols = ['WordLemma', 'WordPOS', 'WordTag', 'WordDep']\n",
    "numerical_cols = ['IsCapitalized', 'NonPunctuation', 'IsStop', 'PossibleNER', 'WordLength']\n",
    "\n",
    "numerical_transformer = SimpleImputer(strategy='constant')\n",
    "\n",
    "categorical_transformer = Pipeline(steps=[\n",
    "    ('imputer', SimpleImputer(strategy='most_frequent')),\n",
    "    ('onehot', OneHotEncoder(handle_unknown='ignore'))\n",
    "])\n",
    "\n",
    "preprocessor = ColumnTransformer(\n",
    "    transformers=[\n",
    "        ('num', numerical_transformer, numerical_cols),\n",
    "        ('cat', categorical_transformer, categorical_cols)\n",
    "    ])\n",
    "\n",
    "for model, model_name in zip(models, model_names):\n",
    "\n",
    "\n",
    "    pipeline = Pipeline(steps=[('preprocessor', preprocessor),\n",
    "                                ('model', model)\n",
    "                                ])\n",
    "\n",
    "    pipeline.fit(X_train, y_train)  \n",
    "\n",
    "    preds = pipeline.predict(X_test)\n",
    "\n",
    "    print('Display metrics for {} with one-hot encoding:'.format(model_name))\n",
    "    display_metrics(y_test, preds) "
   ]
  },
  {
   "cell_type": "code",
   "execution_count": 10,
   "metadata": {},
   "outputs": [],
   "source": [
    "pipeline = Pipeline(steps=[('preprocessor', preprocessor),\n",
    "                            ('xgb_model', xgb_model)\n",
    "                            ])\n",
    "\n",
    "pickle.dump(pipeline, open('../../flask_app/ner_model.pkl', 'wb'))"
   ]
  }
 ],
 "metadata": {
  "kernelspec": {
   "display_name": "Python 3.10.4 ('glg-project')",
   "language": "python",
   "name": "python3"
  },
  "language_info": {
   "codemirror_mode": {
    "name": "ipython",
    "version": 3
   },
   "file_extension": ".py",
   "mimetype": "text/x-python",
   "name": "python",
   "nbconvert_exporter": "python",
   "pygments_lexer": "ipython3",
   "version": "3.10.4"
  },
  "orig_nbformat": 4,
  "vscode": {
   "interpreter": {
    "hash": "f13607be891010820e0da429067f1a535e7a2044f342673b34a4d987fe81d266"
   }
  }
 },
 "nbformat": 4,
 "nbformat_minor": 2
}
